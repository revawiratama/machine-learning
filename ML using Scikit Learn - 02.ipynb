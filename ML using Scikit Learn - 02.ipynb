{
 "cells": [
  {
   "cell_type": "markdown",
   "id": "noticed-person",
   "metadata": {},
   "source": [
    "## Dataset Preparation"
   ]
  },
  {
   "cell_type": "markdown",
   "id": "proper-plate",
   "metadata": {},
   "source": [
    "#### Load sample dataset: Iris dataset"
   ]
  },
  {
   "cell_type": "code",
   "execution_count": 1,
   "id": "received-albania",
   "metadata": {},
   "outputs": [],
   "source": [
    "from sklearn.datasets import load_iris\n",
    "\n",
    "iris = load_iris()\n",
    "\n",
    "X = iris.data\n",
    "Y = iris.target"
   ]
  },
  {
   "cell_type": "markdown",
   "id": "traditional-luxury",
   "metadata": {},
   "source": [
    "#### Splitting dataset: Training and Testing Set"
   ]
  },
  {
   "cell_type": "code",
   "execution_count": 2,
   "id": "nearby-amateur",
   "metadata": {},
   "outputs": [
    {
     "name": "stdout",
     "output_type": "stream",
     "text": [
      "X train: (105, 4)\n",
      "X test: (45, 4)\n",
      "Y train: (105,)\n",
      "Y test: (45,)\n"
     ]
    }
   ],
   "source": [
    "from sklearn.model_selection import train_test_split\n",
    "\n",
    "from sklearn.model_selection import train_test_split\n",
    "\n",
    "X_train, X_test, Y_train, Y_test = train_test_split(X,\n",
    "                                                   Y,\n",
    "                                                   test_size= 0.3,\n",
    "                                                   random_state= 1)\n",
    "\n",
    "print(f'X train: {X_train.shape}')\n",
    "print(f'X test: {X_test.shape}')\n",
    "print(f'Y train: {Y_train.shape}')\n",
    "print(f'Y test: {Y_test.shape}')"
   ]
  },
  {
   "cell_type": "markdown",
   "id": "outside-rhythm",
   "metadata": {},
   "source": [
    "#### Training Model"
   ]
  },
  {
   "cell_type": "code",
   "execution_count": 3,
   "id": "descending-keeping",
   "metadata": {},
   "outputs": [
    {
     "data": {
      "text/plain": [
       "KNeighborsClassifier(n_neighbors=3)"
      ]
     },
     "execution_count": 3,
     "metadata": {},
     "output_type": "execute_result"
    }
   ],
   "source": [
    "from sklearn.neighbors import KNeighborsClassifier\n",
    "\n",
    "model = KNeighborsClassifier(n_neighbors=3) # this is needed to classify the number of neighbors\n",
    "model.fit(X_train, Y_train)"
   ]
  },
  {
   "cell_type": "markdown",
   "id": "previous-vancouver",
   "metadata": {},
   "source": [
    "#### Model evaluation"
   ]
  },
  {
   "cell_type": "code",
   "execution_count": 4,
   "id": "filled-honor",
   "metadata": {},
   "outputs": [
    {
     "name": "stdout",
     "output_type": "stream",
     "text": [
      "Accuracy: 0.9777777777777777\n"
     ]
    }
   ],
   "source": [
    "from sklearn.metrics import accuracy_score\n",
    "\n",
    "Y_pred = model.predict(X_test)\n",
    "acc = accuracy_score(Y_test, Y_pred)\n",
    "print(f'Accuracy: {acc}')"
   ]
  },
  {
   "cell_type": "markdown",
   "id": "assured-jacksonville",
   "metadata": {},
   "source": [
    "#### Trained Model Utilization"
   ]
  },
  {
   "cell_type": "code",
   "execution_count": 7,
   "id": "vietnamese-muscle",
   "metadata": {},
   "outputs": [
    {
     "data": {
      "text/plain": [
       "array([1, 2])"
      ]
     },
     "execution_count": 7,
     "metadata": {},
     "output_type": "execute_result"
    }
   ],
   "source": [
    "new_dataset = [[5,5,3,2],\n",
    "              [2,4,3,5]]\n",
    "\n",
    "preds = model.predict(new_dataset)\n",
    "preds"
   ]
  },
  {
   "cell_type": "code",
   "execution_count": 8,
   "id": "numerous-means",
   "metadata": {},
   "outputs": [
    {
     "name": "stdout",
     "output_type": "stream",
     "text": [
      "Prediction results: ['versicolor', 'virginica']\n"
     ]
    }
   ],
   "source": [
    "pred_species = [iris.target_names[p] for p in preds]\n",
    "print(f'Prediction results: {pred_species}')"
   ]
  },
  {
   "cell_type": "markdown",
   "id": "abstract-depth",
   "metadata": {},
   "source": [
    "#### Dump and Load Trained Model"
   ]
  },
  {
   "cell_type": "markdown",
   "id": "presidential-tuition",
   "metadata": {},
   "source": [
    "Dumping Machine Learning Model to file 'joblib'"
   ]
  },
  {
   "cell_type": "code",
   "execution_count": 9,
   "id": "referenced-uniform",
   "metadata": {},
   "outputs": [
    {
     "data": {
      "text/plain": [
       "['iris_classifier_knn.joblib']"
      ]
     },
     "execution_count": 9,
     "metadata": {},
     "output_type": "execute_result"
    }
   ],
   "source": [
    "import joblib\n",
    "\n",
    "joblib.dump(model, 'iris_classifier_knn.joblib')"
   ]
  },
  {
   "cell_type": "markdown",
   "id": "given-atlantic",
   "metadata": {},
   "source": [
    "Loading Machine Learning Model from file 'joblib'"
   ]
  },
  {
   "cell_type": "code",
   "execution_count": 10,
   "id": "elder-spare",
   "metadata": {},
   "outputs": [],
   "source": [
    "production_model = joblib.load('iris_classifier_knn.joblib')"
   ]
  },
  {
   "cell_type": "code",
   "execution_count": null,
   "id": "completed-hungary",
   "metadata": {},
   "outputs": [],
   "source": []
  }
 ],
 "metadata": {
  "kernelspec": {
   "display_name": "Python 3",
   "language": "python",
   "name": "python3"
  },
  "language_info": {
   "codemirror_mode": {
    "name": "ipython",
    "version": 3
   },
   "file_extension": ".py",
   "mimetype": "text/x-python",
   "name": "python",
   "nbconvert_exporter": "python",
   "pygments_lexer": "ipython3",
   "version": "3.8.8"
  }
 },
 "nbformat": 4,
 "nbformat_minor": 5
}
